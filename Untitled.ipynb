{
 "cells": [
  {
   "cell_type": "code",
   "execution_count": 5,
   "id": "f658bda0-f4df-474f-af4c-eb6d2601dd89",
   "metadata": {},
   "outputs": [],
   "source": [
    "import streamlit as st \n",
    "import pandas as pd \n",
    "import matplotlib.pyplot as plt\n",
    "import numpy as np\n",
    "import re\n"
   ]
  },
  {
   "cell_type": "code",
   "execution_count": 6,
   "id": "b5b55adf-0ae2-4618-83e9-c3091ae6b5df",
   "metadata": {},
   "outputs": [],
   "source": [
    "df = pd.read_csv(\"菓子類1 csv.csv\",float_precision='round_trip')\n"
   ]
  },
  {
   "cell_type": "code",
   "execution_count": 3,
   "id": "680f02b9-bebe-4aa3-a339-b633703f8562",
   "metadata": {},
   "outputs": [
    {
     "data": {
      "text/html": [
       "<div>\n",
       "<style scoped>\n",
       "    .dataframe tbody tr th:only-of-type {\n",
       "        vertical-align: middle;\n",
       "    }\n",
       "\n",
       "    .dataframe tbody tr th {\n",
       "        vertical-align: top;\n",
       "    }\n",
       "\n",
       "    .dataframe thead th {\n",
       "        text-align: right;\n",
       "    }\n",
       "</style>\n",
       "<table border=\"1\" class=\"dataframe\">\n",
       "  <thead>\n",
       "    <tr style=\"text-align: right;\">\n",
       "      <th></th>\n",
       "      <th>食品名</th>\n",
       "      <th>エネルギー kcal</th>\n",
       "      <th>たんぱく質 g</th>\n",
       "      <th>脂質 g</th>\n",
       "      <th>炭水化物(単糖当量) g</th>\n",
       "      <th>炭水化物(質量計) g</th>\n",
       "      <th>食物繊維総量 g</th>\n",
       "      <th>食塩相当量 g</th>\n",
       "    </tr>\n",
       "  </thead>\n",
       "  <tbody>\n",
       "    <tr>\n",
       "      <th>0</th>\n",
       "      <td>＜和生菓子・和半生菓子類＞　甘納豆　あずき</td>\n",
       "      <td>283</td>\n",
       "      <td>3.4</td>\n",
       "      <td>0.3</td>\n",
       "      <td>-69.6</td>\n",
       "      <td>-66</td>\n",
       "      <td>4.8</td>\n",
       "      <td>0.1</td>\n",
       "    </tr>\n",
       "    <tr>\n",
       "      <th>1</th>\n",
       "      <td>＜和生菓子・和半生菓子類＞　甘納豆　いんげんまめ</td>\n",
       "      <td>288</td>\n",
       "      <td>3.8</td>\n",
       "      <td>0.5</td>\n",
       "      <td>-69.8</td>\n",
       "      <td>-66.3</td>\n",
       "      <td>5.5</td>\n",
       "      <td>0.1</td>\n",
       "    </tr>\n",
       "    <tr>\n",
       "      <th>2</th>\n",
       "      <td>＜和生菓子・和半生菓子類＞　甘納豆　えんどう</td>\n",
       "      <td>293</td>\n",
       "      <td>3.8</td>\n",
       "      <td>0.4</td>\n",
       "      <td>-72.4</td>\n",
       "      <td>-68.7</td>\n",
       "      <td>3.2</td>\n",
       "      <td>0.1</td>\n",
       "    </tr>\n",
       "    <tr>\n",
       "      <th>3</th>\n",
       "      <td>＜和生菓子・和半生菓子類＞　今川焼　こしあん入り</td>\n",
       "      <td>217</td>\n",
       "      <td>-4.5</td>\n",
       "      <td>-1.1</td>\n",
       "      <td>-50.6</td>\n",
       "      <td>-47.2</td>\n",
       "      <td>-1.4</td>\n",
       "      <td>-0.1</td>\n",
       "    </tr>\n",
       "    <tr>\n",
       "      <th>4</th>\n",
       "      <td>＜和生菓子・和半生菓子類＞　今川焼　つぶしあん入り</td>\n",
       "      <td>220</td>\n",
       "      <td>-4.5</td>\n",
       "      <td>-1.4</td>\n",
       "      <td>-50.5</td>\n",
       "      <td>-46.9</td>\n",
       "      <td>-1.7</td>\n",
       "      <td>-0.2</td>\n",
       "    </tr>\n",
       "    <tr>\n",
       "      <th>...</th>\n",
       "      <td>...</td>\n",
       "      <td>...</td>\n",
       "      <td>...</td>\n",
       "      <td>...</td>\n",
       "      <td>...</td>\n",
       "      <td>...</td>\n",
       "      <td>...</td>\n",
       "      <td>...</td>\n",
       "    </tr>\n",
       "    <tr>\n",
       "      <th>180</th>\n",
       "      <td>＜チューインガム類＞　風船ガム</td>\n",
       "      <td>387</td>\n",
       "      <td>0</td>\n",
       "      <td>0</td>\n",
       "      <td>-</td>\n",
       "      <td>-</td>\n",
       "      <td>0</td>\n",
       "      <td>0.0</td>\n",
       "    </tr>\n",
       "    <tr>\n",
       "      <th>181</th>\n",
       "      <td>＜その他＞　カスタードクリーム</td>\n",
       "      <td>174</td>\n",
       "      <td>-5.1</td>\n",
       "      <td>-7.6</td>\n",
       "      <td>-26.1</td>\n",
       "      <td>-24.6</td>\n",
       "      <td>-0.2</td>\n",
       "      <td>-0.1</td>\n",
       "    </tr>\n",
       "    <tr>\n",
       "      <th>182</th>\n",
       "      <td>＜その他＞　しるこ　こしあん</td>\n",
       "      <td>211</td>\n",
       "      <td>-4.7</td>\n",
       "      <td>-0.3</td>\n",
       "      <td>-50</td>\n",
       "      <td>-47.1</td>\n",
       "      <td>-3.2</td>\n",
       "      <td>0.0</td>\n",
       "    </tr>\n",
       "    <tr>\n",
       "      <th>183</th>\n",
       "      <td>＜その他＞　しるこ　つぶしあん</td>\n",
       "      <td>179</td>\n",
       "      <td>-4.2</td>\n",
       "      <td>-0.4</td>\n",
       "      <td>-41</td>\n",
       "      <td>-38.6</td>\n",
       "      <td>-4.3</td>\n",
       "      <td>-0.1</td>\n",
       "    </tr>\n",
       "    <tr>\n",
       "      <th>184</th>\n",
       "      <td>＜その他＞　チョコレートクリーム</td>\n",
       "      <td>481</td>\n",
       "      <td>-4.6</td>\n",
       "      <td>-32</td>\n",
       "      <td>-50.1</td>\n",
       "      <td>-47</td>\n",
       "      <td>-0.6</td>\n",
       "      <td>-0.5</td>\n",
       "    </tr>\n",
       "  </tbody>\n",
       "</table>\n",
       "<p>185 rows × 8 columns</p>\n",
       "</div>"
      ],
      "text/plain": [
       "                           食品名  エネルギー kcal たんぱく質 g  脂質 g 炭水化物(単糖当量) g  \\\n",
       "0        ＜和生菓子・和半生菓子類＞　甘納豆　あずき         283     3.4   0.3        -69.6   \n",
       "1     ＜和生菓子・和半生菓子類＞　甘納豆　いんげんまめ         288     3.8   0.5        -69.8   \n",
       "2       ＜和生菓子・和半生菓子類＞　甘納豆　えんどう         293     3.8   0.4        -72.4   \n",
       "3     ＜和生菓子・和半生菓子類＞　今川焼　こしあん入り         217    -4.5  -1.1        -50.6   \n",
       "4    ＜和生菓子・和半生菓子類＞　今川焼　つぶしあん入り         220    -4.5  -1.4        -50.5   \n",
       "..                         ...         ...     ...   ...          ...   \n",
       "180            ＜チューインガム類＞　風船ガム         387       0     0            -   \n",
       "181            ＜その他＞　カスタードクリーム         174    -5.1  -7.6        -26.1   \n",
       "182             ＜その他＞　しるこ　こしあん         211    -4.7  -0.3          -50   \n",
       "183            ＜その他＞　しるこ　つぶしあん         179    -4.2  -0.4          -41   \n",
       "184           ＜その他＞　チョコレートクリーム         481    -4.6   -32        -50.1   \n",
       "\n",
       "    炭水化物(質量計) g 食物繊維総量 g  食塩相当量 g  \n",
       "0           -66      4.8      0.1  \n",
       "1         -66.3      5.5      0.1  \n",
       "2         -68.7      3.2      0.1  \n",
       "3         -47.2     -1.4     -0.1  \n",
       "4         -46.9     -1.7     -0.2  \n",
       "..          ...      ...      ...  \n",
       "180           -        0      0.0  \n",
       "181       -24.6     -0.2     -0.1  \n",
       "182       -47.1     -3.2      0.0  \n",
       "183       -38.6     -4.3     -0.1  \n",
       "184         -47     -0.6     -0.5  \n",
       "\n",
       "[185 rows x 8 columns]"
      ]
     },
     "execution_count": 3,
     "metadata": {},
     "output_type": "execute_result"
    }
   ],
   "source": [
    "df"
   ]
  },
  {
   "cell_type": "code",
   "execution_count": 6,
   "id": "578ebac0-04d1-4ee6-9301-beef1f1f2b22",
   "metadata": {},
   "outputs": [],
   "source": [
    "age_options = ['18-29', '30-49', '50-64']\n",
    "gender_options = ['Male', 'Female']\n"
   ]
  },
  {
   "cell_type": "code",
   "execution_count": 7,
   "id": "d227fd31-884c-4896-aee8-247b6f571980",
   "metadata": {},
   "outputs": [
    {
     "data": {
      "text/plain": [
       "'30-49'"
      ]
     },
     "execution_count": 7,
     "metadata": {},
     "output_type": "execute_result"
    }
   ],
   "source": [
    "age_options[1]"
   ]
  },
  {
   "cell_type": "code",
   "execution_count": null,
   "id": "4cb4a7da-4331-44db-9a8d-1348b2b6b4bc",
   "metadata": {},
   "outputs": [],
   "source": []
  },
  {
   "cell_type": "code",
   "execution_count": null,
   "id": "435a50fe-74e7-4792-9e7e-1a2226c052b9",
   "metadata": {},
   "outputs": [],
   "source": []
  },
  {
   "cell_type": "code",
   "execution_count": 8,
   "id": "a46c1ef7-83db-4016-a8ce-a39e2ab5d26d",
   "metadata": {},
   "outputs": [],
   "source": [
    "# atgai"
   ]
  },
  {
   "cell_type": "code",
   "execution_count": 7,
   "id": "fdee972e-2a40-42e0-aa19-4ee26a3a516d",
   "metadata": {},
   "outputs": [],
   "source": [
    "df = pd.read_csv(\"菓子類1 csv.csv\",float_precision='round_trip')"
   ]
  },
  {
   "cell_type": "code",
   "execution_count": 29,
   "id": "bf71c1c8-722f-49c0-aa40-aa8319982eae",
   "metadata": {},
   "outputs": [],
   "source": [
    "nutrients = [\"エネルギー kcal\",\"たんぱく質 g\", \"脂質 g\", \"炭水化物(単糖当量) g\", \"炭水化物(質量計) g\",\"食物繊維総量 g\",\"食塩相当量 g\"]"
   ]
  },
  {
   "cell_type": "code",
   "execution_count": 30,
   "id": "a0e38136-325a-4247-9d74-33a7c113578b",
   "metadata": {},
   "outputs": [
    {
     "data": {
      "text/plain": [
       "'エネルギー kcal'"
      ]
     },
     "execution_count": 30,
     "metadata": {},
     "output_type": "execute_result"
    }
   ],
   "source": [
    "nutrients[0]"
   ]
  },
  {
   "cell_type": "code",
   "execution_count": 31,
   "id": "55c21de0-4c27-4d27-9eba-86606a54967f",
   "metadata": {},
   "outputs": [],
   "source": [
    "selected_nutrient=nutrients[0] #'エネルギー kcal'を選択"
   ]
  },
  {
   "cell_type": "code",
   "execution_count": 48,
   "id": "f0de42df-a99f-429a-acfa-cfcad67d1986",
   "metadata": {},
   "outputs": [
    {
     "data": {
      "text/plain": [
       "'エネルギー kcal'"
      ]
     },
     "execution_count": 48,
     "metadata": {},
     "output_type": "execute_result"
    }
   ],
   "source": [
    "selected_nutrient"
   ]
  },
  {
   "cell_type": "code",
   "execution_count": 49,
   "id": "ee91f7db-ea5c-4b81-900c-80725aaf3557",
   "metadata": {},
   "outputs": [],
   "source": [
    "keyword=\"しょうゆせんべい\""
   ]
  },
  {
   "cell_type": "code",
   "execution_count": 50,
   "id": "44e56f34-791b-4883-8b2e-5dab6d3a7f6e",
   "metadata": {},
   "outputs": [
    {
     "data": {
      "text/html": [
       "<div>\n",
       "<style scoped>\n",
       "    .dataframe tbody tr th:only-of-type {\n",
       "        vertical-align: middle;\n",
       "    }\n",
       "\n",
       "    .dataframe tbody tr th {\n",
       "        vertical-align: top;\n",
       "    }\n",
       "\n",
       "    .dataframe thead th {\n",
       "        text-align: right;\n",
       "    }\n",
       "</style>\n",
       "<table border=\"1\" class=\"dataframe\">\n",
       "  <thead>\n",
       "    <tr style=\"text-align: right;\">\n",
       "      <th></th>\n",
       "      <th>食品名</th>\n",
       "      <th>エネルギー kcal</th>\n",
       "      <th>たんぱく質 g</th>\n",
       "      <th>脂質 g</th>\n",
       "      <th>炭水化物(単糖当量) g</th>\n",
       "      <th>炭水化物(質量計) g</th>\n",
       "      <th>食物繊維総量 g</th>\n",
       "      <th>食塩相当量 g</th>\n",
       "    </tr>\n",
       "  </thead>\n",
       "  <tbody>\n",
       "    <tr>\n",
       "      <th>87</th>\n",
       "      <td>＜和干菓子類＞　米菓　しょうゆせんべい</td>\n",
       "      <td>368.0</td>\n",
       "      <td>7.3</td>\n",
       "      <td>1.0</td>\n",
       "      <td>88.4</td>\n",
       "      <td>80.4</td>\n",
       "      <td>0.6</td>\n",
       "      <td>1.3</td>\n",
       "    </tr>\n",
       "  </tbody>\n",
       "</table>\n",
       "</div>"
      ],
      "text/plain": [
       "                    食品名  エネルギー kcal  たんぱく質 g  脂質 g  炭水化物(単糖当量) g  炭水化物(質量計) g  \\\n",
       "87  ＜和干菓子類＞　米菓　しょうゆせんべい       368.0      7.3   1.0          88.4         80.4   \n",
       "\n",
       "    食物繊維総量 g  食塩相当量 g  \n",
       "87       0.6      1.3  "
      ]
     },
     "execution_count": 50,
     "metadata": {},
     "output_type": "execute_result"
    }
   ],
   "source": [
    "df[df[\"食品名\"].str.contains(keyword)]"
   ]
  },
  {
   "cell_type": "code",
   "execution_count": null,
   "id": "24a6e933-fa4a-49d5-ae97-0ad320f4aaea",
   "metadata": {},
   "outputs": [],
   "source": []
  },
  {
   "cell_type": "code",
   "execution_count": 13,
   "id": "b3d05d1f-3b4b-46b4-8ae4-d6fe74536e77",
   "metadata": {},
   "outputs": [],
   "source": [
    "# 正規表現で数字のみを抽出する関数\n",
    "def extract_numbers(x):\n",
    "    numbers = re.findall(r'\\d+\\.\\d+|\\d+', str(x))\n",
    "    if numbers:\n",
    "        return float(numbers[0])\n",
    "    else:\n",
    "        return None"
   ]
  },
  {
   "cell_type": "code",
   "execution_count": 39,
   "id": "c9fdd20b-27df-441a-82db-facf52428b9b",
   "metadata": {},
   "outputs": [],
   "source": [
    "# 数字のみを抽出してfloat型に変換する\n",
    "df[nutrients]= df[nutrients].applymap(extract_numbers)\n",
    "\n",
    "df=df.fillna(0)\n",
    "df[nutrients]=df[nutrients].abs()"
   ]
  },
  {
   "cell_type": "code",
   "execution_count": 40,
   "id": "362dcacf-8597-4db3-937c-98fc345d2582",
   "metadata": {},
   "outputs": [],
   "source": [
    "filtered_df = df[df[\"食品名\"].str.contains(keyword)]#[[\"食品名\", selected_nutrient]]"
   ]
  },
  {
   "cell_type": "code",
   "execution_count": 41,
   "id": "72372799-0812-43cb-bd38-c4ebf673b644",
   "metadata": {},
   "outputs": [
    {
     "data": {
      "text/html": [
       "<div>\n",
       "<style scoped>\n",
       "    .dataframe tbody tr th:only-of-type {\n",
       "        vertical-align: middle;\n",
       "    }\n",
       "\n",
       "    .dataframe tbody tr th {\n",
       "        vertical-align: top;\n",
       "    }\n",
       "\n",
       "    .dataframe thead th {\n",
       "        text-align: right;\n",
       "    }\n",
       "</style>\n",
       "<table border=\"1\" class=\"dataframe\">\n",
       "  <thead>\n",
       "    <tr style=\"text-align: right;\">\n",
       "      <th></th>\n",
       "      <th>食品名</th>\n",
       "      <th>エネルギー kcal</th>\n",
       "      <th>たんぱく質 g</th>\n",
       "      <th>脂質 g</th>\n",
       "      <th>炭水化物(単糖当量) g</th>\n",
       "      <th>炭水化物(質量計) g</th>\n",
       "      <th>食物繊維総量 g</th>\n",
       "      <th>食塩相当量 g</th>\n",
       "    </tr>\n",
       "  </thead>\n",
       "  <tbody>\n",
       "    <tr>\n",
       "      <th>87</th>\n",
       "      <td>＜和干菓子類＞　米菓　しょうゆせんべい</td>\n",
       "      <td>368.0</td>\n",
       "      <td>7.3</td>\n",
       "      <td>1.0</td>\n",
       "      <td>88.4</td>\n",
       "      <td>80.4</td>\n",
       "      <td>0.6</td>\n",
       "      <td>1.3</td>\n",
       "    </tr>\n",
       "  </tbody>\n",
       "</table>\n",
       "</div>"
      ],
      "text/plain": [
       "                    食品名  エネルギー kcal  たんぱく質 g  脂質 g  炭水化物(単糖当量) g  炭水化物(質量計) g  \\\n",
       "87  ＜和干菓子類＞　米菓　しょうゆせんべい       368.0      7.3   1.0          88.4         80.4   \n",
       "\n",
       "    食物繊維総量 g  食塩相当量 g  \n",
       "87       0.6      1.3  "
      ]
     },
     "execution_count": 41,
     "metadata": {},
     "output_type": "execute_result"
    }
   ],
   "source": [
    "filtered_df"
   ]
  },
  {
   "cell_type": "code",
   "execution_count": 42,
   "id": "ed8d1696-8173-47cc-90d7-a2d5e9029f7a",
   "metadata": {},
   "outputs": [],
   "source": [
    "selected_row=\"しょうゆせんべい\""
   ]
  },
  {
   "cell_type": "code",
   "execution_count": 43,
   "id": "7a8cf70b-020f-4a87-a2be-1afef4e55ce0",
   "metadata": {},
   "outputs": [
    {
     "data": {
      "text/html": [
       "<div>\n",
       "<style scoped>\n",
       "    .dataframe tbody tr th:only-of-type {\n",
       "        vertical-align: middle;\n",
       "    }\n",
       "\n",
       "    .dataframe tbody tr th {\n",
       "        vertical-align: top;\n",
       "    }\n",
       "\n",
       "    .dataframe thead th {\n",
       "        text-align: right;\n",
       "    }\n",
       "</style>\n",
       "<table border=\"1\" class=\"dataframe\">\n",
       "  <thead>\n",
       "    <tr style=\"text-align: right;\">\n",
       "      <th></th>\n",
       "      <th>食品名</th>\n",
       "      <th>エネルギー kcal</th>\n",
       "      <th>たんぱく質 g</th>\n",
       "      <th>脂質 g</th>\n",
       "      <th>炭水化物(単糖当量) g</th>\n",
       "      <th>炭水化物(質量計) g</th>\n",
       "      <th>食物繊維総量 g</th>\n",
       "      <th>食塩相当量 g</th>\n",
       "    </tr>\n",
       "  </thead>\n",
       "  <tbody>\n",
       "  </tbody>\n",
       "</table>\n",
       "</div>"
      ],
      "text/plain": [
       "Empty DataFrame\n",
       "Columns: [食品名, エネルギー kcal, たんぱく質 g, 脂質 g, 炭水化物(単糖当量) g, 炭水化物(質量計) g, 食物繊維総量 g, 食塩相当量 g]\n",
       "Index: []"
      ]
     },
     "execution_count": 43,
     "metadata": {},
     "output_type": "execute_result"
    }
   ],
   "source": [
    "filtered_df=df[df[\"食品名\"]==selected_row]\n",
    "filtered_df"
   ]
  },
  {
   "cell_type": "code",
   "execution_count": 27,
   "id": "4819f6c4-0230-4206-8c15-7df7d832530a",
   "metadata": {},
   "outputs": [
    {
     "ename": "NameError",
     "evalue": "name 'selected_nutrient' is not defined",
     "output_type": "error",
     "traceback": [
      "\u001b[0;31m---------------------------------------------------------------------------\u001b[0m",
      "\u001b[0;31mNameError\u001b[0m                                 Traceback (most recent call last)",
      "Cell \u001b[0;32mIn[27], line 2\u001b[0m\n\u001b[1;32m      1\u001b[0m \u001b[38;5;66;03m# データをグループ化し、棒グラフで表示する\u001b[39;00m\n\u001b[0;32m----> 2\u001b[0m grouped_df \u001b[38;5;241m=\u001b[39m filtered_df\u001b[38;5;241m.\u001b[39mgroupby(\u001b[38;5;124m\"\u001b[39m\u001b[38;5;124m食品名\u001b[39m\u001b[38;5;124m\"\u001b[39m)[\u001b[43mselected_nutrient\u001b[49m]\u001b[38;5;241m.\u001b[39msum()\n\u001b[1;32m      3\u001b[0m grouped_df\u001b[38;5;66;03m#.plot()\u001b[39;00m\n",
      "\u001b[0;31mNameError\u001b[0m: name 'selected_nutrient' is not defined"
     ]
    }
   ],
   "source": [
    "# データをグループ化し、棒グラフで表示する\n",
    "grouped_df = filtered_df.groupby(\"食品名\")[selected_nutrient].sum()\n",
    "grouped_df#.plot()"
   ]
  },
  {
   "cell_type": "code",
   "execution_count": 94,
   "id": "9679c44d-34c7-458d-8638-b91bb0f0b578",
   "metadata": {},
   "outputs": [],
   "source": [
    "#button"
   ]
  },
  {
   "cell_type": "code",
   "execution_count": null,
   "id": "222e5ea6-fe99-4f64-ae6c-7435968d1352",
   "metadata": {},
   "outputs": [],
   "source": [
    "##宿題\n",
    "# dictの値をちゃんとした閾値にする\n",
    "# dict_woman_1829以外もきちんとした名前にする\n",
    "# thover_listに超えた栄養素を格納する\n",
    "# printなど不要なところは消去し、streamlitのほうに実装する\n",
    "\n",
    "##応用\n",
    "# dict書くのめんどいので、やはりCSVでもいいかも\n",
    "# そのあと、閾値を判別するところ全体を関数にしてみる"
   ]
  },
  {
   "cell_type": "code",
   "execution_count": 33,
   "id": "d793d4a6-5fc0-4c95-9c10-fc245ba21f06",
   "metadata": {},
   "outputs": [],
   "source": [
    "dict_man_1829 = {\"エネルギー kcal\":662.5,\"たんぱく質 g\":16.3, \"脂質 g\":100, \"炭水化物(単糖当量) g\":100, \"炭水化物(質量計) g\":100,\"食物繊維総量 g\":100,\"食塩相当量 g\":100}\n",
    "dict_man_3049 = {\"エネルギー kcal\":675.0,\"たんぱく質 g\":16.3, \"脂質 g\":100, \"炭水化物(単糖当量) g\":100, \"炭水化物(質量計) g\":100,\"食物繊維総量 g\":100,\"食塩相当量 g\":100}\n",
    "dict_man_5064 = {\"エネルギー kcal\":650.0,\"たんぱく質 g\":16.3, \"脂質 g\":100, \"炭水化物(単糖当量) g\":100, \"炭水化物(質量計) g\":100,\"食物繊維総量 g\":100,\"食塩相当量 g\":100}\n",
    "\n",
    "dict_woman_1829 = {\"エネルギー kcal\":100,\"たんぱく質 g\":100, \"脂質 g\":100, \"炭水化物(単糖当量) g\":100, \"炭水化物(質量計) g\":100,\"食物繊維総量 g\":100,\"食塩相当量 g\":100}\n",
    "dict_woman_3049 = {\"エネルギー kcal\":100,\"たんぱく質 g\":100, \"脂質 g\":100, \"炭水化物(単糖当量) g\":100, \"炭水化物(質量計) g\":100,\"食物繊維総量 g\":100,\"食塩相当量 g\":100}\n",
    "dict_woman_5064 = {\"エネルギー kcal\":100,\"たんぱく質 g\":100, \"脂質 g\":100, \"炭水化物(単糖当量) g\":100, \"炭水化物(質量計) g\":100,\"食物繊維総量 g\":100,\"食塩相当量 g\":100}\n"
   ]
  },
  {
   "cell_type": "code",
   "execution_count": 51,
   "id": "2e17c96c-9134-458e-98ac-f6514dcb9644",
   "metadata": {},
   "outputs": [
    {
     "name": "stdout",
     "output_type": "stream",
     "text": [
      "女性\n",
      "18-29\n",
      "******************************\n",
      "閾値を超えた栄養素は0個ありました\n",
      "それは []\n"
     ]
    },
    {
     "name": "stderr",
     "output_type": "stream",
     "text": [
      "/tmp/ipykernel_11970/152072638.py:29: DeprecationWarning: The truth value of an empty array is ambiguous. Returning False, but in future this will result in an error. Use `array.size > 0` to check that an array is not empty.\n",
      "  if filtered_df[i].values > 10: #dict_man_1829[i]:## 注意　filtered_df[i]はSeries型なので、論理式でエラー。valuesをつけると値になる\n"
     ]
    }
   ],
   "source": [
    "thover_list=[]\n",
    "gender=[\"男性\",\"女性\"][1]\n",
    "age_group=[\"18-29\",\"30-49\",\"50-64\"][0]\n",
    "\n",
    "if gender==\"男性\":\n",
    "    print(\"男性\")\n",
    "    if age_group==\"18-29\":\n",
    "        print(\"18-29\")\n",
    "        for i in nutrients:\n",
    "            #print(f\"{i}\")\n",
    "            if filtered_df[i].values > dict_man_1829[i]:## 注意　filtered_df[i]はSeries型なので、論理式でエラー。valuesをつけると値になる\n",
    "                print(f\"Over {i}\")\n",
    "                \n",
    "    elif age_group==\"30-49\":\n",
    "        for i in nutrients:\n",
    "            if filtered_df[i].values > dict_man_3049[i]:\n",
    "                print(f\"Over {i}\")\n",
    "                \n",
    "    elif age_group==\"50-64\":\n",
    "        for i in nutrients:\n",
    "            if filtered_df[i].values > dict_man_5064[i]:\n",
    "                print(f\"Over {i}\")\n",
    "                \n",
    "else:\n",
    "    print(\"女性\")\n",
    "    if age_group==\"18-29\":\n",
    "        print(\"18-29\")\n",
    "        for i in nutrients:\n",
    "            if filtered_df[i].values > 10: #dict_man_1829[i]:## 注意　filtered_df[i]はSeries型なので、論理式でエラー。valuesをつけると値になる\n",
    "                print(f\"Over {i}\")\n",
    "                \n",
    "    elif age_group==\"30-49\":\n",
    "        for i in nutrients:\n",
    "            if filtered_df[i].values > dict_man_3049[i]:\n",
    "                print(f\"Over {i}\")\n",
    "                \n",
    "    elif age_group==\"50-64\":\n",
    "        for i in nutrients:\n",
    "            if filtered_df[i].values > dict_man_5064[i]:\n",
    "                print(f\"Over {i}\")\n",
    "                \n",
    "\n",
    "print(\"***\"*10)\n",
    "print(f\"閾値を超えた栄養素は{len(thover_list)}個ありました\")\n",
    "print(\"それは\", [i for i in thover_list])"
   ]
  },
  {
   "cell_type": "code",
   "execution_count": 36,
   "id": "76ff972e-2a72-49f8-b540-d7d1ea9e1440",
   "metadata": {},
   "outputs": [
    {
     "data": {
      "text/plain": [
       "'食塩相当量 g'"
      ]
     },
     "execution_count": 36,
     "metadata": {},
     "output_type": "execute_result"
    }
   ],
   "source": [
    "i"
   ]
  },
  {
   "cell_type": "code",
   "execution_count": 37,
   "id": "5e600a6b-6dc3-4b61-8cf4-f0730a482e0f",
   "metadata": {},
   "outputs": [],
   "source": [
    "i=\"たんぱく質 g\""
   ]
  },
  {
   "cell_type": "code",
   "execution_count": 38,
   "id": "cf3d47f6-35fd-4634-a3e7-29fde92977b4",
   "metadata": {},
   "outputs": [
    {
     "ename": "NameError",
     "evalue": "name 'th_man_1829' is not defined",
     "output_type": "error",
     "traceback": [
      "\u001b[0;31m---------------------------------------------------------------------------\u001b[0m",
      "\u001b[0;31mNameError\u001b[0m                                 Traceback (most recent call last)",
      "Cell \u001b[0;32mIn[38], line 1\u001b[0m\n\u001b[0;32m----> 1\u001b[0m \u001b[43mth_man_1829\u001b[49m[i]\n",
      "\u001b[0;31mNameError\u001b[0m: name 'th_man_1829' is not defined"
     ]
    }
   ],
   "source": [
    "th_man_1829[i]"
   ]
  },
  {
   "cell_type": "code",
   "execution_count": 117,
   "id": "a979dfb6-9d28-4f20-acbf-ae1ccbc61b5d",
   "metadata": {},
   "outputs": [
    {
     "data": {
      "text/plain": [
       "169    False\n",
       "Name: 食塩相当量 g, dtype: bool"
      ]
     },
     "execution_count": 117,
     "metadata": {},
     "output_type": "execute_result"
    }
   ],
   "source": [
    "filtered_df[i] >100"
   ]
  },
  {
   "cell_type": "code",
   "execution_count": 122,
   "id": "f26e487e-dc9d-400a-b4e9-e334d353addf",
   "metadata": {},
   "outputs": [
    {
     "data": {
      "text/plain": [
       "array([0.4])"
      ]
     },
     "execution_count": 122,
     "metadata": {},
     "output_type": "execute_result"
    }
   ],
   "source": [
    "filtered_df[i].values"
   ]
  },
  {
   "cell_type": "code",
   "execution_count": 123,
   "id": "c5fb6cff-6680-4163-a87d-c30b9e689b09",
   "metadata": {},
   "outputs": [
    {
     "data": {
      "text/plain": [
       "'食塩相当量 g'"
      ]
     },
     "execution_count": 123,
     "metadata": {},
     "output_type": "execute_result"
    }
   ],
   "source": [
    "i"
   ]
  },
  {
   "cell_type": "code",
   "execution_count": 124,
   "id": "41a17b81-429f-428a-8bb8-371c65273699",
   "metadata": {},
   "outputs": [
    {
     "data": {
      "text/plain": [
       "['エネルギー kcal',\n",
       " 'たんぱく質 g',\n",
       " '脂質 g',\n",
       " '炭水化物(単糖当量) g',\n",
       " '炭水化物(質量計) g',\n",
       " '食物繊維総量 g',\n",
       " '食塩相当量 g']"
      ]
     },
     "execution_count": 124,
     "metadata": {},
     "output_type": "execute_result"
    }
   ],
   "source": [
    " nutrients"
   ]
  },
  {
   "cell_type": "code",
   "execution_count": 126,
   "id": "5176fc27-f5e3-4c49-9e9f-097df205678c",
   "metadata": {},
   "outputs": [
    {
     "data": {
      "text/plain": [
       "['エネルギー kcal', 'たんぱく質 g', '脂質 g']"
      ]
     },
     "execution_count": 126,
     "metadata": {},
     "output_type": "execute_result"
    }
   ],
   "source": [
    "nutrients[0:3]"
   ]
  },
  {
   "cell_type": "code",
   "execution_count": null,
   "id": "f7831280-8e68-4e87-b65b-1632a675e7fb",
   "metadata": {},
   "outputs": [],
   "source": []
  }
 ],
 "metadata": {
  "kernelspec": {
   "display_name": "Python 3 (ipykernel)",
   "language": "python",
   "name": "python3"
  },
  "language_info": {
   "codemirror_mode": {
    "name": "ipython",
    "version": 3
   },
   "file_extension": ".py",
   "mimetype": "text/x-python",
   "name": "python",
   "nbconvert_exporter": "python",
   "pygments_lexer": "ipython3",
   "version": "3.8.6"
  }
 },
 "nbformat": 4,
 "nbformat_minor": 5
}
